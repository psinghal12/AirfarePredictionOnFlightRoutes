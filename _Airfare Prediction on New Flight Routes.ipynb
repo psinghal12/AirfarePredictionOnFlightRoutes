{
 "cells": [
  {
   "cell_type": "code",
   "execution_count": 146,
   "id": "bb1a99f6",
   "metadata": {},
   "outputs": [],
   "source": [
    "# Pankhuri Singhal\n",
    "# 11/1/22\n",
    "# Full Data Analysis of Airfares.csv\n",
    "# This notebook's Python code attempts to create and evaluate a machine learning model for a dataset\n",
    "# of flights and their prices (data taken from a real dataset, 1996 USA). I'll include the full dataset in the repo.\n",
    "# Cleans and preprocesses the dataset, creates the linear regression model, fits the data to it;\n",
    "# and evaluates the predictive performance.\n",
    "\n",
    "from matplotlib import pyplot as plt \n",
    "import pandas as pd\n",
    "import numpy as np\n",
    "from sklearn.model_selection import train_test_split\n",
    "from sklearn.linear_model import LinearRegression\n",
    "from sklearn import preprocessing\n",
    "from math import sqrt"
   ]
  },
  {
   "cell_type": "code",
   "execution_count": 147,
   "id": "cb99274d",
   "metadata": {
    "scrolled": true
   },
   "outputs": [
    {
     "data": {
      "image/png": "[encoded data removed]",
      "text/plain": [
       "<Figure size 432x288 with 1 Axes>"
      ]
     },
     "metadata": {
      "needs_background": "light"
     },
     "output_type": "display_data"
    },
    {
     "name": "stdout",
     "output_type": "stream",
     "text": [
      "(638, 11)\n"
     ]
    }
   ],
   "source": [
    "#data cleaning\n",
    "dfAir = pd.read_csv(\"Airfares.csv\")\n",
    "dfAir.head()\n",
    "dfAir.columns\n",
    "\n",
    "plt.boxplot(dfAir.iloc[:,-1]) #boxplot of FARE to see if there are outliers\n",
    "plt.show()\n",
    "\n",
    "dfAirSorted = dfAir.sort_values(by = \"FARE\", ascending = False) #sorting in order to drop rows\n",
    "print(dfAirSorted.shape)\n",
    "#dfAirSorted[0:10]\n",
    "\n",
    "dfAirSorted.drop(dfAirSorted.index[0:5], inplace = True)\n"
   ]
  },
  {
   "cell_type": "code",
   "execution_count": 148,
   "id": "3d6406dd",
   "metadata": {
    "scrolled": true
   },
   "outputs": [
    {
     "data": {
      "text/plain": [
       "Index(['COUPON', 'NEW', 'SW', 'HI', 'S_INCOME', 'E_INCOME', 'S_POP', 'E_POP',\n",
       "       'DISTANCE', 'PAX', 'FARE'],\n",
       "      dtype='object')"
      ]
     },
     "execution_count": 148,
     "metadata": {},
     "output_type": "execute_result"
    }
   ],
   "source": [
    "#normalizing\n",
    "\n",
    "dfAirCleaned = dfAirSorted.copy(deep=True)\n",
    "dfAirCleaned.head()\n",
    "dfAirSorted.head() #for comparison after dropping columns\n",
    "dfAirCleaned.columns"
   ]
  },
  {
   "cell_type": "code",
   "execution_count": 149,
   "id": "65fe11e6",
   "metadata": {},
   "outputs": [
    {
     "data": {
      "text/html": [
       "<div>\n",
       "<style scoped>\n",
       "    .dataframe tbody tr th:only-of-type {\n",
       "        vertical-align: middle;\n",
       "    }\n",
       "\n",
       "    .dataframe tbody tr th {\n",
       "        vertical-align: top;\n",
       "    }\n",
       "\n",
       "    .dataframe thead th {\n",
       "        text-align: right;\n",
       "    }\n",
       "</style>\n",
       "<table border=\"1\" class=\"dataframe\">\n",
       "  <thead>\n",
       "    <tr style=\"text-align: right;\">\n",
       "      <th></th>\n",
       "      <th>COUPON</th>\n",
       "      <th>HI</th>\n",
       "      <th>S_INCOME</th>\n",
       "      <th>E_INCOME</th>\n",
       "      <th>S_POP</th>\n",
       "      <th>E_POP</th>\n",
       "      <th>DISTANCE</th>\n",
       "      <th>PAX</th>\n",
       "      <th>FARE</th>\n",
       "    </tr>\n",
       "  </thead>\n",
       "  <tbody>\n",
       "    <tr>\n",
       "      <th>0</th>\n",
       "      <td>0.044361</td>\n",
       "      <td>0.047340</td>\n",
       "      <td>0.038684</td>\n",
       "      <td>0.039807</td>\n",
       "      <td>0.027545</td>\n",
       "      <td>0.046624</td>\n",
       "      <td>0.046503</td>\n",
       "      <td>0.008782</td>\n",
       "      <td>0.080114</td>\n",
       "    </tr>\n",
       "    <tr>\n",
       "      <th>1</th>\n",
       "      <td>0.045992</td>\n",
       "      <td>0.045823</td>\n",
       "      <td>0.042825</td>\n",
       "      <td>0.038694</td>\n",
       "      <td>0.042282</td>\n",
       "      <td>0.035523</td>\n",
       "      <td>0.055410</td>\n",
       "      <td>0.009326</td>\n",
       "      <td>0.079301</td>\n",
       "    </tr>\n",
       "    <tr>\n",
       "      <th>2</th>\n",
       "      <td>0.042078</td>\n",
       "      <td>0.053667</td>\n",
       "      <td>0.038684</td>\n",
       "      <td>0.046913</td>\n",
       "      <td>0.027545</td>\n",
       "      <td>0.081229</td>\n",
       "      <td>0.049231</td>\n",
       "      <td>0.034298</td>\n",
       "      <td>0.079201</td>\n",
       "    </tr>\n",
       "    <tr>\n",
       "      <th>3</th>\n",
       "      <td>0.042078</td>\n",
       "      <td>0.053667</td>\n",
       "      <td>0.038684</td>\n",
       "      <td>0.046913</td>\n",
       "      <td>0.027545</td>\n",
       "      <td>0.081229</td>\n",
       "      <td>0.049231</td>\n",
       "      <td>0.034298</td>\n",
       "      <td>0.079201</td>\n",
       "    </tr>\n",
       "    <tr>\n",
       "      <th>4</th>\n",
       "      <td>0.042078</td>\n",
       "      <td>0.053667</td>\n",
       "      <td>0.038684</td>\n",
       "      <td>0.046913</td>\n",
       "      <td>0.027545</td>\n",
       "      <td>0.081229</td>\n",
       "      <td>0.049231</td>\n",
       "      <td>0.034298</td>\n",
       "      <td>0.079201</td>\n",
       "    </tr>\n",
       "  </tbody>\n",
       "</table>\n",
       "</div>"
      ],
      "text/plain": [
       "     COUPON        HI  S_INCOME  E_INCOME     S_POP     E_POP  DISTANCE  \\\n",
       "0  0.044361  0.047340  0.038684  0.039807  0.027545  0.046624  0.046503   \n",
       "1  0.045992  0.045823  0.042825  0.038694  0.042282  0.035523  0.055410   \n",
       "2  0.042078  0.053667  0.038684  0.046913  0.027545  0.081229  0.049231   \n",
       "3  0.042078  0.053667  0.038684  0.046913  0.027545  0.081229  0.049231   \n",
       "4  0.042078  0.053667  0.038684  0.046913  0.027545  0.081229  0.049231   \n",
       "\n",
       "        PAX      FARE  \n",
       "0  0.008782  0.080114  \n",
       "1  0.009326  0.079301  \n",
       "2  0.034298  0.079201  \n",
       "3  0.034298  0.079201  \n",
       "4  0.034298  0.079201  "
      ]
     },
     "execution_count": 149,
     "metadata": {},
     "output_type": "execute_result"
    }
   ],
   "source": [
    "#categorical variables: NEW, SW\n",
    "#remove before preprocessing\n",
    "dfAirCleaned.drop(['NEW', 'SW'],  axis=1, inplace=True)\n",
    "dfAirCleaned.columns\n",
    "dfAirCleaned.head()\n",
    "\n",
    "#normalizing across columns/features, not rows, \n",
    "#by overriding axis perimeter's default value\n",
    "d = preprocessing.normalize(dfAirCleaned, axis=0)\n",
    "colTitles = dfAirCleaned.columns\n",
    "scaledDF = pd.DataFrame(d, columns=colTitles)\n",
    "scaledDF.head()"
   ]
  },
  {
   "cell_type": "code",
   "execution_count": 150,
   "id": "22d5e3a5",
   "metadata": {},
   "outputs": [
    {
     "name": "stdout",
     "output_type": "stream",
     "text": [
      "Coefficients:  [ 0.2467  0.3136  0.6796  0.3653  0.21    0.2397  0.4276 -0.1322]\n",
      "Intercept:\n",
      "-0.0514\n"
     ]
    }
   ],
   "source": [
    "#building a full model to predict fare with all other predictors \n",
    "#in cleaned, normalized dataset\n",
    "\n",
    "selectIndex = ['COUPON', 'HI', 'S_INCOME', 'E_INCOME', 'S_POP', 'E_POP',\n",
    "       'DISTANCE', 'PAX']\n",
    "air_X = scaledDF.loc[:, selectIndex] #all predictors in the cleaned, normalized dataset\n",
    "air_y = scaledDF.loc[:, \"FARE\"]\n",
    "\n",
    "#setting training partition to 30%, validation to 70%\n",
    "#and seed of 22\n",
    "X_trainAir, X_validAir, y_trainAir, y_validAir = \\\n",
    "    train_test_split(air_X, air_y, test_size=0.3, random_state=22)\n",
    "\n",
    "#fitting the model\n",
    "model = LinearRegression()\n",
    "model.fit(X_trainAir, y_trainAir)\n",
    "\n",
    "#getting coefficients and intercept for linear equation\n",
    "np.set_printoptions(precision=4, suppress=True)\n",
    "print(\"Coefficients: \", model.coef_)\n",
    "print(\"Intercept:\")\n",
    "print(\"%.4f\" % model.intercept_)\n",
    "\n",
    "#now predict the fares\n",
    "y_predAir = model.predict(X_validAir)"
   ]
  },
  {
   "cell_type": "code",
   "execution_count": 151,
   "id": "fd12eb49",
   "metadata": {},
   "outputs": [
    {
     "data": {
      "image/png": "[encoded data removed]",
      "text/plain": [
       "<Figure size 432x288 with 1 Axes>"
      ]
     },
     "metadata": {
      "needs_background": "light"
     },
     "output_type": "display_data"
    }
   ],
   "source": [
    "#evaluating performance of predictive model, with scatterplot\n",
    "npPredictedValidSet = np.array(y_predAir)\n",
    "npActualValidSet = y_validAir\n",
    "\n",
    "plt.scatter(npPredictedValidSet, npActualValidSet)\n",
    "plt.xlabel(\"Predicted values\")\n",
    "plt.ylabel(\"Actual values\")\n",
    "plt.title(\"Evaluation of Predictive Model of Airfares\")\n",
    "plt.show()"
   ]
  },
  {
   "cell_type": "code",
   "execution_count": 152,
   "id": "4f939b51",
   "metadata": {},
   "outputs": [
    {
     "data": {
      "image/png": "[encoded data removed]",
      "text/plain": [
       "<Figure size 432x288 with 1 Axes>"
      ]
     },
     "metadata": {
      "needs_background": "light"
     },
     "output_type": "display_data"
    }
   ],
   "source": [
    "#error histogram for frequency of errors\n",
    "numBins = 20\n",
    "e = y_validAir - y_predAir\n",
    "npError = np.array(e)\n",
    "\n",
    "plt.hist(npError, numBins)\n",
    "plt.xlabel(\"Error value (euros)\")\n",
    "plt.ylabel(\"Number of observations\")\n",
    "plt.title(\"Airfare Validation Set Error Frequency Analysis\")\n",
    "plt.show()"
   ]
  },
  {
   "cell_type": "code",
   "execution_count": 153,
   "id": "67513581",
   "metadata": {},
   "outputs": [
    {
     "name": "stdout",
     "output_type": "stream",
     "text": [
      "RMSE for full model:\n",
      "0.0092\n",
      "\n",
      "Max of Validation Set:  0.07930061393916278\n",
      "Min of Validation Set:  0.009623387930383297\n",
      "Normalized RMSE:  0.1325677694866482\n"
     ]
    }
   ],
   "source": [
    " #RMSE calculations\n",
    "print(\"RMSE for full model:\")\n",
    "e = y_validAir - y_predAir\n",
    "rmse = np.sqrt(np.mean(e**2))\n",
    "print(\"%.4f\" % rmse) \n",
    "print()\n",
    "\n",
    "#normalized rmse calculation: rmse/(max - min)\n",
    "npValidSet = np.array(y_validAir)\n",
    "npValidSet\n",
    "print(\"Max of Validation Set: \", npValidSet.max())\n",
    "print(\"Min of Validation Set: \", npValidSet.min())\n",
    "normRMSE = rmse / (npValidSet.max() - npValidSet.min())\n",
    "print(\"Normalized RMSE: \", normRMSE) #relatively good, as it's closer to 0 than it is to 1. However,\n",
    "                                        #removing the \"NEW\" and \"SW\" columns might have pushed the value up."
   ]
  }
 ],
 "metadata": {
  "kernelspec": {
   "display_name": "Python 3 (ipykernel)",
   "language": "python",
   "name": "python3"
  },
  "language_info": {
   "codemirror_mode": {
    "name": "ipython",
    "version": 3
   },
   "file_extension": ".py",
   "mimetype": "text/x-python",
   "name": "python",
   "nbconvert_exporter": "python",
   "pygments_lexer": "ipython3",
   "version": "3.9.12"
  }
 },
 "nbformat": 4,
 "nbformat_minor": 5
}
